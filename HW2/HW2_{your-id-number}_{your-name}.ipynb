{
 "cells": [
  {
   "cell_type": "markdown",
   "metadata": {},
   "source": [
    "# 作业二：实现Word2Vec的连续词袋模型\n",
    "\n",
    "姓名：\n",
    "\n",
    "学号：\n",
    "\n",
    "---"
   ]
  },
  {
   "cell_type": "markdown",
   "metadata": {},
   "source": [
    "本次作业将使用PyTorch构建CBOW模型。Pytorch是当下最主流的深度学习框架，在大作业中我们将继续使用torch完成语言模型的载入、训练、推理等操作。希望同学们能够通过这次作业对torch的张量操作以及常用函数有一个基础的理解，以便应用于之后的作业以及其他的深度学习实践当中。\n",
    "\n",
    "依据计算平台的不同，PyTorch提供了多种版本可供安装。本次作业我们只需要使用CPU版本，可以通过通过`pip install torch`直接安装。\n",
    "\n",
    "> 关于GPU版本的安装可以参见[官网](https://pytorch.org/get-started/locally/)。对于本次作业，由于模型参数太小，使用GPU进行运算与CPU相比并无优势，**请不要使用GPU训练模型。**"
   ]
  },
  {
   "cell_type": "code",
   "execution_count": null,
   "metadata": {
    "ExecuteTime": {
     "end_time": "2023-11-05T06:35:38.715014900Z",
     "start_time": "2023-11-05T06:35:35.552612900Z"
    },
    "collapsed": false
   },
   "outputs": [],
   "source": [
    "!pip install torch tqdm"
   ]
  },
  {
   "cell_type": "markdown",
   "metadata": {},
   "source": [
    "需要Python版本大于等于3.6，并检查是否已安装所依赖的第三方库。（若没有安装可以执行上面的代码块）"
   ]
  },
  {
   "cell_type": "code",
   "execution_count": null,
   "metadata": {},
   "outputs": [],
   "source": [
    "import importlib\n",
    "import sys\n",
    "\n",
    "assert sys.version_info[0] == 3\n",
    "assert sys.version_info[1] >= 6\n",
    "\n",
    "requirements = [\"torch\", \"tqdm\"]\n",
    "_OK = True\n",
    "\n",
    "for name in requirements:\n",
    "    try:\n",
    "        importlib.import_module(name)\n",
    "    except ImportError:\n",
    "        print(f\"Require: {name}\")\n",
    "        _OK = False\n",
    "\n",
    "if not _OK:\n",
    "    exit(-1)\n",
    "else:\n",
    "    print(\"All libraries are satisfied.\")"
   ]
  },
  {
   "cell_type": "markdown",
   "metadata": {},
   "source": [
    "## 辅助代码\n",
    "\n",
    "该部分包含：用于给句子分词的分词器`tokenizer`、用于构造数据的数据集类`Dataset`和用于构建词表的词表类`Vocab`。\n",
    "\n",
    "> 注：该部分无需实现。"
   ]
  },
  {
   "cell_type": "markdown",
   "metadata": {},
   "source": [
    "### 分词器\n",
    "\n",
    "该分词器会：\n",
    "1. 将所有字母转为小写；\n",
    "2. 将句子分为连续的字母序列（word）"
   ]
  },
  {
   "cell_type": "code",
   "execution_count": null,
   "metadata": {},
   "outputs": [],
   "source": [
    "import re\n",
    "from typing import List, Tuple\n",
    "\n",
    "def tokenizer(line: str) -> List[str]:\n",
    "    line = line.lower()\n",
    "    tokens = list(filter(lambda x: len(x) > 0, re.split(r\"\\W\", line)))\n",
    "    return tokens\n",
    "\n",
    "print(tokenizer(\"It's  useful. \"))"
   ]
  },
  {
   "cell_type": "markdown",
   "metadata": {},
   "source": [
    "### 数据集类\n",
    "\n",
    "语料数据集类`CorpusDataset`读取`corpus`中的行，并依据设定的窗口长度`window_size`解析返回`(context, target)`元组。\n",
    "\n",
    "假如一个句子序列为`a b c d e`，且此时`window_size=2`，`CorpusDataset`会返回：\n",
    "\n",
    "```\n",
    "([b, c], a)\n",
    "([a, c, d], b)\n",
    "([a, b, d, e], c)\n",
    "([b, c, e], d)\n",
    "([c, d], e)\n",
    "```\n",
    "\n",
    "> 该`CorpusDataset`类继承自torch提供的数据集类`Dataset`。torch对该类提供了多种工具函数，配合`DataLoader`可以便捷地完成批次加载、数据打乱等数据集处理工作。"
   ]
  },
  {
   "cell_type": "code",
   "execution_count": 4,
   "metadata": {},
   "outputs": [],
   "source": [
    "import torch\n",
    "from torch.utils.data import Dataset\n",
    "\n",
    "class CorpusDataset(Dataset):\n",
    "    def __init__(self, corpus_path: str, window_size: int) -> None:\n",
    "        \"\"\"\n",
    "        :param corpus: 语料路径\n",
    "        :param window_size: 窗口长度\n",
    "        \"\"\"\n",
    "        self.corpus_path = corpus_path\n",
    "        self.window_size = window_size\n",
    "\n",
    "        self.data = self._load_data()\n",
    "\n",
    "    def _load_data(self) -> List:\n",
    "        data = []\n",
    "        with open(self.corpus_path, encoding=\"utf-8\") as f:\n",
    "            for line in f:\n",
    "                tokens = tokenizer(line)\n",
    "                if len(tokens) <= 1:\n",
    "                    continue\n",
    "                for i, target in enumerate(tokens):\n",
    "                    left_context = tokens[max(0, i - self.window_size): i]\n",
    "                    right_context = tokens[i + 1: i + 1 + self.window_size]\n",
    "                    context = left_context + right_context\n",
    "                    data.append((context, target))\n",
    "        return data\n",
    "\n",
    "    def __len__(self) -> int:\n",
    "        return len(self.data)\n",
    "\n",
    "    def __getitem__(self, idx) -> Tuple[List[str], str]:\n",
    "        return self.data[idx]"
   ]
  },
  {
   "cell_type": "code",
   "execution_count": null,
   "metadata": {},
   "outputs": [],
   "source": [
    "debug_dataset = CorpusDataset(\"./data/debug2.txt\", window_size=3)\n",
    "print(len(debug_dataset))\n",
    "\n",
    "for i, pair in enumerate(iter(debug_dataset)):\n",
    "    print(pair)\n",
    "    if i >= 3:\n",
    "        break\n",
    "\n",
    "del debug_dataset"
   ]
  },
  {
   "cell_type": "markdown",
   "metadata": {},
   "source": [
    "### 词表类\n",
    "\n",
    "`Vocab`可以用`token_to_idx`把token(str)映射为索引(int)，也可以用`idx_to_token`找到索引对应的token。\n",
    "\n",
    "实例化`Vocab`有两种方法：\n",
    "1. 读取`corpus`构建词表。\n",
    "2. 通过调用`Vocab.load_vocab`，可以从已训练的词表中构建`Vocab`实例。"
   ]
  },
  {
   "cell_type": "code",
   "execution_count": 6,
   "metadata": {},
   "outputs": [],
   "source": [
    "import os\n",
    "import warnings\n",
    "from collections import Counter\n",
    "from typing import Dict\n",
    "\n",
    "class Vocab:\n",
    "    VOCAB_FILE = \"vocab.txt\"\n",
    "    UNK = \"<unk>\"\n",
    "\n",
    "    def __init__(self, corpus: str=None, max_vocab_size: int=-1):\n",
    "        \"\"\"\n",
    "        :param corpus:         语料文件路径\n",
    "        :param max_vocab_size: 最大词表数量，-1表示不做任何限制\n",
    "        \"\"\"\n",
    "        self._token_to_idx: Dict[str, int] = {}\n",
    "        self.token_freq: List[Tuple[str, int]] = []\n",
    "\n",
    "        if corpus is not None:\n",
    "            self.build_vocab(corpus, max_vocab_size)\n",
    "\n",
    "    def build_vocab(self, corpus: str, max_vocab_size: int=-1):\n",
    "        \"\"\" 统计词频，并保留高频词 \"\"\"\n",
    "        counter = Counter()\n",
    "        with open(corpus, encoding=\"utf-8\") as f:\n",
    "            for line in f:\n",
    "                tokens = tokenizer(line)\n",
    "                counter.update(tokens)\n",
    "\n",
    "        print(f\"总Token数: {sum(counter.values())}\")\n",
    "\n",
    "        # 将找到的词按照词频从高到低排序\n",
    "        self.token_freq = [(self.UNK, 1)] + sorted(counter.items(), key=lambda x: x[1], reverse=True)\n",
    "        if max_vocab_size > 0:\n",
    "            self.token_freq = self.token_freq[:max_vocab_size]\n",
    "\n",
    "        print(f\"词表大小: {len(self.token_freq)}\")\n",
    "\n",
    "        for i, (token, _freq) in enumerate(self.token_freq):\n",
    "            self._token_to_idx[token] = i\n",
    "\n",
    "    def __len__(self):\n",
    "        return len(self.token_freq)\n",
    "\n",
    "    def __contains__(self, token: str):\n",
    "        return token in self._token_to_idx\n",
    "\n",
    "    def token_to_idx(self, token: str, warn: bool = False) -> int:\n",
    "        \"\"\" 将token映射至索引 \"\"\"\n",
    "        token = token.lower()\n",
    "        if token not in self._token_to_idx:\n",
    "            if warn:\n",
    "                warnings.warn(f\"{token} => {self.UNK}\")\n",
    "            token = self.UNK\n",
    "        return self._token_to_idx[token]\n",
    "\n",
    "    def idx_to_token(self, idx: int) -> str:\n",
    "        \"\"\" 将索引映射至token \"\"\"\n",
    "        assert 0 <= idx < len(self), f\"Index {idx} out of vocab size {len(self)}\"\n",
    "        return self.token_freq[idx][0]\n",
    "\n",
    "    def save_vocab(self, path: str):\n",
    "        with open(os.path.join(path, self.VOCAB_FILE), \"w\", encoding=\"utf-8\") as f:\n",
    "            lines = [f\"{token} {freq}\" for token, freq in self.token_freq]\n",
    "            f.write(\"\\n\".join(lines))\n",
    "\n",
    "    @classmethod\n",
    "    def load_vocab(cls, path: str):\n",
    "        vocab = cls()\n",
    "\n",
    "        with open(os.path.join(path, cls.VOCAB_FILE), encoding=\"utf-8\") as f:\n",
    "            lines = f.read().split(\"\\n\")\n",
    "\n",
    "        for i, line in enumerate(lines):\n",
    "            token, freq = line.split()\n",
    "            vocab.token_freq.append((token, int(freq)))\n",
    "            vocab._token_to_idx[token] = i\n",
    "\n",
    "        return vocab"
   ]
  },
  {
   "cell_type": "code",
   "execution_count": null,
   "metadata": {},
   "outputs": [],
   "source": [
    "debug_vocab = Vocab(\"./data/debug2.txt\")\n",
    "print(debug_vocab.token_freq)\n",
    "del debug_vocab"
   ]
  },
  {
   "cell_type": "markdown",
   "metadata": {},
   "source": [
    "## Word2Vec实现\n",
    "\n",
    "本节将实现Word2Vec的CBOW模型，为了便于实现，本实验不引入`Hierarchical Softmax`和`Negative Sampling`等加速技巧，若同学们对这些技术感兴趣，可参考：[word2vec Parameter Learning Explained](https://arxiv.org/pdf/1411.2738.pdf)。"
   ]
  },
  {
   "cell_type": "markdown",
   "metadata": {},
   "source": [
    "### 1. 实现one-hot向量构建函数\n",
    "\n",
    "需求：指定词向量的维度和需要置1的索引，返回`torch.Tensor`张量格式的one-hot行向量。\n",
    "\n",
    "请手动操作张量实现该需求， **不要直接使用库中已有的`torch.nn.functional.one_hot`函数，否则不得分！** 你可以在实现后与库函数的结果相比对来验证正确性。"
   ]
  },
  {
   "cell_type": "code",
   "execution_count": 8,
   "metadata": {},
   "outputs": [],
   "source": [
    "def one_hot(idx: int, dim: int) -> torch.Tensor:\n",
    "    # [1] TODO: 实现one-hot函数【1分】\n",
    "    pass"
   ]
  },
  {
   "cell_type": "code",
   "execution_count": null,
   "metadata": {},
   "outputs": [],
   "source": [
    "import torch.nn.functional as F\n",
    "src = one_hot(1, 4)\n",
    "ref = F.one_hot(torch.tensor(1), num_classes=4)\n",
    "print(f\"参考值：{ref}\")\n",
    "print(f\"测试值：{src}\")"
   ]
  },
  {
   "cell_type": "markdown",
   "metadata": {},
   "source": [
    "### 2. 实现softmax函数\n",
    "请手动操作张量，实现softmax函数。**直接使用torch的softmax方法不得分！**"
   ]
  },
  {
   "cell_type": "code",
   "execution_count": 10,
   "metadata": {},
   "outputs": [],
   "source": [
    "def softmax(x: torch.Tensor) -> torch.Tensor:\n",
    "    # [2] TODO: 实现softmax函数【2分】\n",
    "    pass"
   ]
  },
  {
   "cell_type": "code",
   "execution_count": null,
   "metadata": {},
   "outputs": [],
   "source": [
    "src = softmax(torch.arange(10).float())\n",
    "ref = F.softmax(torch.arange(10).float(), dim=0)\n",
    "print(f\"参考值：{ref}\")\n",
    "print(f\"测试值：{src}\")"
   ]
  },
  {
   "cell_type": "markdown",
   "metadata": {},
   "source": [
    "### 3. 实现CBOW类并训练模型\n",
    "\n",
    "推荐按照TODO描述的步骤以及限定的代码块区域来实现（预计15行代码），也可在保证结果正确的前提下按照自己的思路来实现。请手动操作张量实现反向传播与模型训练，**直接使用loss.backward()、optimizer等torch内置方法不得分！**\n",
    "\n",
    "> 建议利用torch提供的张量操作（点积、外积、矩阵乘等）替代python的循环，高效处理数据。\n",
    "\n",
    "> `torch.nn.Module`是torch中神经网络模型的基类，大多数模型的定义都继承于此。其中的`forward`函数相当于`__call__`方法，一般用于处理模型的前向传播步骤。因此如果你定义了一个实例`cbow = CBOW()`，你可以直接用`cbow(input)`来调用它的`forward`函数并获得模型输出。\n",
    "\n",
    "> 一般来说，模型接受的输入往往是一个批次（batch）；本次作业为实现方便起见不使用batch，只需考虑单条输入的前向与反向传播即可。"
   ]
  },
  {
   "cell_type": "code",
   "execution_count": 12,
   "metadata": {},
   "outputs": [],
   "source": [
    "import os\n",
    "import time\n",
    "\n",
    "from tqdm import tqdm\n",
    "\n",
    "class CBOW(torch.nn.Module):\n",
    "    def __init__(self, vocab: Vocab, vector_dim: int):\n",
    "        super().__init__()\n",
    "        self.vocab = vocab\n",
    "        self.vector_dim = vector_dim\n",
    "\n",
    "        self.U_proj = torch.nn.Linear(len(self.vocab), vector_dim, bias=False)  # (vocab_size, vector_dim)\n",
    "        self.V_proj = torch.nn.Linear(vector_dim, len(self.vocab), bias=False)  # (vector_dim, vocab_size)\n",
    "        torch.nn.init.uniform_(self.U_proj.weight, -1, 1)\n",
    "        torch.nn.init.uniform_(self.V_proj.weight, -1, 1)\n",
    "\n",
    "    def forward(self, x):\n",
    "        h, o, y = None, None, None\n",
    "        # [3] TODO: 实现前向传播逻辑【3分】 ==========================>>>\n",
    "        # 使用之前定义的softmax函数完成输出概率的归一化\n",
    "        # 注意返回中间结果，以便于在训练时反向传播使用\n",
    "        pass\n",
    "        # [3] <<<======================= END ==========================\n",
    "        return y, (h, o)\n",
    "\n",
    "    def train(self, corpus: str, window_size: int, train_epoch: int, learning_rate: float=1e-1, save_path: str = None):\n",
    "        dataset = CorpusDataset(corpus, window_size)\n",
    "        start_time = time.time()\n",
    "\n",
    "        for epoch in range(1, train_epoch + 1):\n",
    "            avg_loss = self.train_one_epoch(epoch, dataset, learning_rate)\n",
    "            if save_path is not None:\n",
    "                self.save_model(save_path)\n",
    "\n",
    "        end_time = time.time()\n",
    "        print(f\"总耗时 {end_time - start_time:.2f}s\")\n",
    "\n",
    "    def train_one_epoch(self, epoch: int, dataset: CorpusDataset, learning_rate: float) -> float:\n",
    "        steps, total_loss = 0, 0.0\n",
    "\n",
    "        with tqdm(dataset, desc=f\"Epoch {epoch}\") as pbar:\n",
    "            for sample in pbar:\n",
    "                context_tokens, target_token = sample\n",
    "                loss = self.train_one_step(context_tokens, target_token, learning_rate)\n",
    "                total_loss += loss\n",
    "                steps += 1\n",
    "                if steps % 10 == 0:\n",
    "                    pbar.set_postfix({\"Avg. loss\": f\"{total_loss / steps:.4f}\"})\n",
    "\n",
    "        return total_loss / steps\n",
    "\n",
    "    def train_one_step(self, context_tokens: List[str], target_token: str, learning_rate: float, debug: bool=False) -> float:\n",
    "        \"\"\"\n",
    "        :param context_tokens:  目标词周围的词\n",
    "        :param target_token:    目标词\n",
    "        :param learning_rate:   学习率\n",
    "        :return:    loss值 (标量)\n",
    "        \"\"\"\n",
    "        context, target = None, None\n",
    "        # [4] TODO: 使用one_hot函数，构建输入与输出的0-1向量【2分】 ===>>>\n",
    "        pass\n",
    "        # [4] <<<======================= END ==========================\n",
    "\n",
    "        pred, (h, o) = self.forward(context)\n",
    "\n",
    "        loss = None\n",
    "        # [5] TODO: 计算交叉熵损失loss【1分】 ========================>>>\n",
    "        pass\n",
    "        # [5] <<<======================= END ==========================\n",
    "\n",
    "        dV_proj, dU_proj = None, None\n",
    "        # [6] TODO: 计算U与V的梯度【3分】 ============================>>>\n",
    "        pass\n",
    "        # [6] <<<======================= END ==========================\n",
    "        \n",
    "        # [7] TODO: 更新U与V的参数【2分】 ============================>>>\n",
    "        pass\n",
    "        # [7] <<<======================= END ==========================\n",
    "\n",
    "        if debug:\n",
    "            print(f\"Loss: {loss.item()}\")\n",
    "            print(f\"Gradient of U_proj:\\n{dU_proj.T.detach()}\")\n",
    "            print(f\"Gradient of V_proj:\\n{dV_proj.T.detach()}\")\n",
    "\n",
    "        return loss.item()\n",
    "\n",
    "    def similarity(self, token1: str, token2: str) -> float:\n",
    "        \"\"\" 计算两个词的相似性 \"\"\"\n",
    "        v1 = self.U_proj.weight.T[self.vocab.token_to_idx(token1)]\n",
    "        v2 = self.U_proj.weight.T[self.vocab.token_to_idx(token2)]\n",
    "        return torch.cosine_similarity(v1, v2).item()\n",
    "\n",
    "    def most_similar_tokens(self, token: str, n: int):\n",
    "        \"\"\" 召回与token最相似的n个token \"\"\"\n",
    "        idx = self.vocab.token_to_idx(token, warn=True)\n",
    "        token_v = self.U_proj.weight.T[idx]\n",
    "\n",
    "        similarities = torch.cosine_similarity(token_v, self.U_proj.weight.T)\n",
    "        nbest_idx = similarities.argsort(descending=True)[:n]\n",
    "\n",
    "        results = []\n",
    "        for idx in nbest_idx:\n",
    "            _token = self.vocab.idx_to_token(idx)\n",
    "            results.append((_token, similarities[idx].item()))\n",
    "\n",
    "        return results\n",
    "\n",
    "    def save_model(self, path: str):\n",
    "        \"\"\" 将模型保存到`path`路径下，如果不存在`path`会主动创建 \"\"\"\n",
    "        os.makedirs(path, exist_ok=True)\n",
    "        self.vocab.save_vocab(path)\n",
    "        torch.save(self.state_dict(), os.path.join(path, \"model.pth\"))\n",
    "\n",
    "    @classmethod\n",
    "    def load_model(cls, path: str):\n",
    "        \"\"\" 从`path`加载模型 \"\"\"\n",
    "        vocab = Vocab.load_vocab(path)\n",
    "        state_dict = torch.load(os.path.join(path, \"model.pth\"))\n",
    "        model = cls(vocab, state_dict[\"U_proj.weight\"].size(0))\n",
    "        model.load_state_dict(state_dict)\n",
    "\n",
    "        return model"
   ]
  },
  {
   "cell_type": "markdown",
   "metadata": {},
   "source": [
    "## 测试\n",
    "\n",
    "测试部分可用于验证CBOW实现的正确性。为了方便检查结果，请不要对训练的参数做修改。"
   ]
  },
  {
   "cell_type": "markdown",
   "metadata": {},
   "source": [
    "### 测试1：loss计算与反向传播\n",
    "\n",
    "本测试使用torch自带的损失函数与梯度反传功能对张量进行计算。如果你的实现正确，应当可以看到手动计算与自动计算得到的损失与梯度值相等或几近相等。"
   ]
  },
  {
   "cell_type": "code",
   "execution_count": null,
   "metadata": {},
   "outputs": [],
   "source": [
    "import random\n",
    "\n",
    "def test1():\n",
    "    random.seed(42)\n",
    "    torch.manual_seed(42)\n",
    "\n",
    "    vocab = Vocab(corpus=\"./data/debug1.txt\")\n",
    "    cbow = CBOW(vocab, vector_dim=3)\n",
    "\n",
    "    print(\"********** 参考值 **********\")\n",
    "    x = F.one_hot(\n",
    "        torch.tensor([cbow.vocab.token_to_idx(\"1\"), cbow.vocab.token_to_idx(\"3\")]), num_classes=len(vocab)\n",
    "    ).float().sum(dim=0)\n",
    "    label = F.one_hot(torch.tensor(cbow.vocab.token_to_idx(\"2\")), num_classes=len(vocab)).float()\n",
    "    y, (h, o) = cbow(x)\n",
    "    loss_fct = torch.nn.CrossEntropyLoss()\n",
    "    loss = loss_fct(o.unsqueeze(0), torch.argmax(label).unsqueeze(0))\n",
    "    loss.backward()\n",
    "    print(\"Loss:\", loss.item())\n",
    "    print(f\"Gradient of U_proj:\\n{cbow.U_proj.weight.grad}\")\n",
    "    print(f\"Gradient of V_proj:\\n{cbow.V_proj.weight.grad}\")\n",
    "\n",
    "    print(\"\\n********** 测试值 **********\")\n",
    "    cbow.train_one_step([\"1\", \"3\"], \"2\", 1, debug=True)\n",
    "    \n",
    "test1()"
   ]
  },
  {
   "cell_type": "markdown",
   "metadata": {},
   "source": [
    "### 测试2：CBOW的简单训练\n",
    "\n",
    "本测试可用于验证CBOW的整个训练流程。如果你的实现正确，可以看到最终一个epoch的平均loss约在0.5~0.6，并且“i”、“he”和“she”的相似性较高。"
   ]
  },
  {
   "cell_type": "code",
   "execution_count": null,
   "metadata": {},
   "outputs": [],
   "source": [
    "def test2():\n",
    "    random.seed(42)\n",
    "    torch.manual_seed(42)\n",
    "    \n",
    "    vocab = Vocab(corpus=\"./data/debug2.txt\")\n",
    "    cbow = CBOW(vocab, vector_dim=8)\n",
    "    cbow.train(corpus=\"./data/debug2.txt\", window_size=3, train_epoch=10, learning_rate=1.0)\n",
    "\n",
    "    print(cbow.most_similar_tokens(\"i\", 5))\n",
    "    print(cbow.most_similar_tokens(\"he\", 5))\n",
    "    print(cbow.most_similar_tokens(\"she\", 5))\n",
    "\n",
    "test2()"
   ]
  },
  {
   "cell_type": "markdown",
   "metadata": {},
   "source": [
    "### 测试3：正式训练CBOW模型\n",
    "\n",
    "本测试将会在`treebank.txt`上训练词向量，为了加快训练流程，实验只保留高频的4000词，且词向量维度为20。\n",
    "\n",
    "在每个epoch结束后，会在`data/treebank.txt`中测试词向量的召回能力。如下所示，`data/treebank.txt`中每个样例为`word`以及对应的同义词，同义词从wordnet中获取。\n",
    "\n",
    "```python\n",
    "[\n",
    "    \"about\",\n",
    "    [\n",
    "        \"most\",\n",
    "        \"virtually\",\n",
    "        \"around\",\n",
    "        \"almost\",\n",
    "        \"near\",\n",
    "        \"nearly\",\n",
    "        \"some\"\n",
    "    ]\n",
    "]\n",
    "```\n",
    "\n",
    "> 本阶段预计消耗40分钟，具体时间与代码实现有关。最后一个epoch平均loss降至5.1左右，并且在同义词上的召回率约为17~18%左右。"
   ]
  },
  {
   "cell_type": "code",
   "execution_count": null,
   "metadata": {},
   "outputs": [],
   "source": [
    "import json\n",
    "\n",
    "def calculate_recall_rate(model: CBOW, word_synonyms: List[Tuple[str, List[str]]], topn: int) -> float:\n",
    "    \"\"\" 测试CBOW的召回率 \"\"\"\n",
    "    hit, total = 0, 1e-9\n",
    "    for word, synonyms in word_synonyms:\n",
    "        synonyms = set(synonyms)\n",
    "        recalled = set([w for w, _ in model.most_similar_tokens(word, topn)])\n",
    "        hit += len(synonyms & recalled)\n",
    "        total += len(synonyms)\n",
    "\n",
    "    print(f\"Recall rate: {hit / total:.2%}\")\n",
    "    return hit / total\n",
    "\n",
    "def test3():\n",
    "    random.seed(42)\n",
    "    torch.manual_seed(42)\n",
    "\n",
    "    corpus = \"./data/treebank.txt\"\n",
    "    lr = 1e-1\n",
    "    topn = 40\n",
    "\n",
    "    vocab = Vocab(corpus, max_vocab_size=4000)\n",
    "    model = CBOW(vocab, vector_dim=20)\n",
    "\n",
    "    dataset = CorpusDataset(corpus, window_size=4)\n",
    "\n",
    "    with open(\"data/synonyms.json\", encoding=\"utf-8\") as f:\n",
    "        word_synonyms: List[Tuple[str, List[str]]] = json.load(f)\n",
    "\n",
    "    for epoch in range(1, 11):\n",
    "        model.train_one_epoch(epoch, dataset, learning_rate=lr)\n",
    "        calculate_recall_rate(model, word_synonyms, topn)\n",
    "\n",
    "test3()"
   ]
  },
  {
   "cell_type": "markdown",
   "metadata": {},
   "source": [
    "## 实验总结\n",
    "\n",
    "> [8] TODO：请在这里写下你的实验总结。**【1分】**"
   ]
  }
 ],
 "metadata": {
  "kernelspec": {
   "display_name": "Python 3",
   "language": "python",
   "name": "python3"
  },
  "language_info": {
   "codemirror_mode": {
    "name": "ipython",
    "version": 3
   },
   "file_extension": ".py",
   "mimetype": "text/x-python",
   "name": "python",
   "nbconvert_exporter": "python",
   "pygments_lexer": "ipython3",
   "version": "3.11.9"
  }
 },
 "nbformat": 4,
 "nbformat_minor": 4
}
